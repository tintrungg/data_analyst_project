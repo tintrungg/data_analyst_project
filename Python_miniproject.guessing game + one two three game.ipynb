{
 "cells": [
  {
   "cell_type": "code",
   "execution_count": 1,
   "metadata": {},
   "outputs": [],
   "source": [
    "# 1. Guessing number\n",
    "\n",
    "### Trong bài này, chúng ta sẽ làm 1 trò chơi nhỏ mang tên đoán số. Cụ thể, Máy tính sẽ chọn random 1 số từ 1 đến 10 (không in ra màn hình).\n",
    "### Chúng ta sẽ đoán máy tính chọn số bao nhiêu?\n",
    "#### - Nếu số chúng ta đoán thấp hơn máy tính thì in ra \"Your guessing number is too low\"\n",
    "#### - Nếu số chúng ta đoán cao hơn máy tính thì in ra \"Your guessing number is too high\"\n",
    "#### - Nếu chúng ta đoán đúng số thì in ra \"You got the correct number after\" xx \"tries\" trong đó xx là số lần đoán. (xx <= 5)\n",
    "#### - Trường hợp 5 lần đoán sai thì sẽ dừng trò chơi và in ra \"Gameover!!! The correct number is yy\" trong đó yy là số mà máy tính chọn\n",
    "\n",
    "#### Những kiến thức cover trong project này: input(), print(), while loop, if - elif - else, break."
   ]
  },
  {
   "cell_type": "code",
   "execution_count": 18,
   "metadata": {
    "scrolled": true
   },
   "outputs": [
    {
     "name": "stdout",
     "output_type": "stream",
     "text": [
      "Hello,What is your name ?tin\n",
      "hi tin welcome to the guessing game . Please enter a number\n",
      "1\n",
      "Your guess is too low\n",
      "4\n",
      "Your guess is too low\n",
      "5\n",
      "Your guess is too low\n",
      "8\n",
      "Your guess is too low\n",
      "9\n",
      "You got the correct number after 5 tries!\n"
     ]
    }
   ],
   "source": [
    "import random\n",
    "# generate random number\n",
    "random_number = random.randint(1,10)\n",
    "# input player's name\n",
    "player_name = input(\"Hello,What is your name ?\")\n",
    "# guess_limit = 5\n",
    "number_of_guesses = 0\n",
    "# Say hi and welcome player to the guessing game\n",
    "print('hi'+ ' ' + player_name + ' ' +'welcome to the guessing game . Please enter a number')\n",
    "\n",
    "#### develop while loop\n",
    "# guess = input the number you guess \n",
    "# stop the game when you find out the correct number after xx times (xx <= 5) OR the guessing number in your 5th attempt is still wrong\n",
    "while number_of_guesses < 5:\n",
    "    guess = int(input())\n",
    "    number_of_guesses += 1\n",
    "    if guess < random_number:\n",
    "        print('Your guess is too low')\n",
    "    if guess > random_number:\n",
    "        print('Your guess is too high')\n",
    "    if guess == random_number:\n",
    "        break\n",
    "if guess == random_number:\n",
    "    print('You got the correct number after ' + str(number_of_guesses) + ' tries!')\n",
    "else:\n",
    "    print('Gameover!!! The correct number is' + str(random_number))"
   ]
  },
  {
   "cell_type": "code",
   "execution_count": 16,
   "metadata": {},
   "outputs": [],
   "source": [
    "## 2. Oẳn tù tì (Rock Paper Scissors game)\n",
    "\n",
    "### Trong bài này chúng ta sẽ mô phỏng lại trò chơi dân gian oẳn tù tì.\n",
    "#### Cụ thể, chúng ta sẽ oẳn tù tì với máy. Máy sẽ chọn random búa, kéo, hoặc lá trong mỗi lần oẳn tù tì.\n",
    "#### Chúng ta sẽ chọn ra búa, kéo hoặc lá sau đó in ra kết quả. Trường hợp người chơi nhập sai, yêu cầu người chơi nhập lại theo đúng chính tả theo 3 sự lựa chọn búa, kéo, hoặc lá.\n",
    "#### Lưu ý, sau mỗi lượt chơi, máy sẽ random chọn lại búa kéo hoặc lá.\n",
    "\n",
    "#### Các kiến thức cover trong mini project này: Array, random, while loop, if - elif - else."
   ]
  },
  {
   "cell_type": "code",
   "execution_count": null,
   "metadata": {},
   "outputs": [],
   "source": [
    "# tạo array búa, kéo, lá\n",
    "\n",
    "\n",
    "# máy chọn random\n",
    "\n",
    "\n",
    "# tạo vòng lặp while để chạy chương trình\n"
   ]
  },
  {
   "cell_type": "code",
   "execution_count": 35,
   "metadata": {},
   "outputs": [
    {
     "name": "stdout",
     "output_type": "stream",
     "text": [
      "Nhap Bua, La, Keo:\n",
      "La\n",
      "---\n",
      "Ban chon: La\n",
      "Computer chon: Bua\n",
      "---\n",
      "Thang\n"
     ]
    }
   ],
   "source": [
    "from random import randint\n",
    "\n",
    "print(\"Nhap Bua, La, Keo:\")\n",
    "player = input()\n",
    "computer = randint(0,2)\n",
    "\n",
    "if computer == 0:\n",
    "    computer = \"Bua\"\n",
    "if computer == 0:\n",
    "    computer = \"La\"\n",
    "if computer == 0:\n",
    "    computer = \"Keo\"\n",
    "\n",
    "print(\"---\")\n",
    "print(\"Ban chon: \" + str(player))\n",
    "print(\"Computer chon: \" + str(computer))\n",
    "print(\"---\")\n",
    "\n",
    "if player == computer:\n",
    "    print(\"Hoa\")\n",
    "else:\n",
    "    if player == \"Keo\":\n",
    "        if computer == \"Dam\":\n",
    "            print(\"Thua\")\n",
    "        else:\n",
    "            print(\"Thang\")\n",
    "\n",
    "    if player == \"Bua\":\n",
    "        if computer == \"Keo\":\n",
    "            print(\"Thang\")\n",
    "        else:\n",
    "            print(\"Thua\")\n",
    "\n",
    "    if player == \"La\":\n",
    "        if computer == \"Keo\":\n",
    "            print(\"Thua\")\n",
    "        else:\n",
    "            print(\"Thang\")\n",
    "        \n",
    "\n",
    "    "
   ]
  }
 ],
 "metadata": {
  "kernelspec": {
   "display_name": "Python 3 (ipykernel)",
   "language": "python",
   "name": "python3"
  },
  "language_info": {
   "codemirror_mode": {
    "name": "ipython",
    "version": 3
   },
   "file_extension": ".py",
   "mimetype": "text/x-python",
   "name": "python",
   "nbconvert_exporter": "python",
   "pygments_lexer": "ipython3",
   "version": "3.9.13"
  }
 },
 "nbformat": 4,
 "nbformat_minor": 2
}
